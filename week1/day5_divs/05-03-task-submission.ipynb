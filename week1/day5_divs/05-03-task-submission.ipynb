{
 "cells": [
  {
   "cell_type": "markdown",
   "id": "2173db08-dd69-4e69-b81a-221a5bbbfc2d",
   "metadata": {
    "tags": []
   },
   "source": [
    "# Неделя 1. Вторник \n",
    "\n",
    "## Математика"
   ]
  },
  {
   "cell_type": "code",
   "execution_count": 17,
   "id": "96f9df0c-a134-4218-835b-20242049104e",
   "metadata": {},
   "outputs": [],
   "source": [
    "# Имортируй библиотеки\n",
    "import matplotlib.pyplot as plt\n",
    "\n",
    "plt.rcParams[\"figure.dpi\"] = 100\n",
    "import numpy as np"
   ]
  },
  {
   "cell_type": "markdown",
   "id": "441254bf-ad80-4605-ba3f-4e5d8039e4e0",
   "metadata": {
    "tags": []
   },
   "source": [
    "### Анализ"
   ]
  },
  {
   "cell_type": "markdown",
   "id": "78b315a1-3e8d-496a-913e-c4bec7da59d0",
   "metadata": {},
   "source": [
    "❓Что значит, что производная в точке равна нулю? "
   ]
  },
  {
   "cell_type": "markdown",
   "id": "591cb891-e864-4bc6-b426-f2d251301847",
   "metadata": {},
   "source": [
    "Точка экстремума - минимум(максимум), функция переходит с убывания(возрастания) на возрастание(убывание)"
   ]
  },
  {
   "cell_type": "markdown",
   "id": "2c7f8ae9-0c53-4c37-bf55-c7aa5da68dc0",
   "metadata": {},
   "source": [
    "Найдите производную функций ниже"
   ]
  },
  {
   "cell_type": "markdown",
   "id": "f98a7632-9bca-4029-9bb3-89e102c5e73c",
   "metadata": {},
   "source": [
    "1. $y = \\dfrac{3x^7}{7}$"
   ]
  },
  {
   "cell_type": "markdown",
   "id": "43624981-4f74-44d5-8b0b-520599dc6c24",
   "metadata": {},
   "source": [
    "$y' = 3 \\cdot x^6$"
   ]
  },
  {
   "cell_type": "markdown",
   "id": "f83c2250-6b29-40e3-be2d-a3e3d59378c4",
   "metadata": {},
   "source": [
    "2. $y = -7$"
   ]
  },
  {
   "cell_type": "markdown",
   "id": "e46d0bc9-7f40-40c1-949a-a536d25ceec5",
   "metadata": {},
   "source": [
    "$y' = 0$"
   ]
  },
  {
   "cell_type": "markdown",
   "id": "24b6b95b-2655-4289-9307-dc9e8293ce60",
   "metadata": {},
   "source": [
    "3. $y = \\dfrac{9}{x}$"
   ]
  },
  {
   "cell_type": "markdown",
   "id": "0d232268-070e-4d41-a16b-5f9952b82db6",
   "metadata": {},
   "source": [
    "$y' = -\\dfrac{9}{x^2}$"
   ]
  },
  {
   "cell_type": "markdown",
   "id": "9efee60b-1d35-4c6f-ae55-3a4af61ccde7",
   "metadata": {},
   "source": [
    "4. $y = 11 - 6x$"
   ]
  },
  {
   "cell_type": "markdown",
   "id": "e548290a-4ebf-4b7d-a1a6-f95dbd722165",
   "metadata": {},
   "source": [
    "$y' = -6$"
   ]
  },
  {
   "cell_type": "markdown",
   "id": "3f5e1af2-6306-4005-885c-6bd26c8f8449",
   "metadata": {},
   "source": [
    "5. $y = 8\\sqrt{x} + 7\\sin{x}$"
   ]
  },
  {
   "cell_type": "markdown",
   "id": "b0bfe2a0-1e58-4e5c-8c8d-aee0227f4f09",
   "metadata": {},
   "source": [
    "$y' = \\dfrac{4}{\\sqrt{x}} + 7 \\cdot cosx$"
   ]
  },
  {
   "cell_type": "markdown",
   "id": "eeb10783-f0a4-4afb-9bcd-162cba102b0d",
   "metadata": {},
   "source": [
    "6. $y = \\dfrac{\\sin{x}}{5x}$"
   ]
  },
  {
   "cell_type": "markdown",
   "id": "aa902b86-4066-4b3d-8d2c-307c1379948f",
   "metadata": {},
   "source": [
    "$y' = \\dfrac{5x\\cdot cosx - 5sinx}{25x^2}$"
   ]
  },
  {
   "cell_type": "markdown",
   "id": "48f32a55-b110-49c9-9ab5-2b46aceeae3f",
   "metadata": {},
   "source": [
    "7. $y = \\dfrac{\\cot{x} + 2}{3x}$"
   ]
  },
  {
   "cell_type": "markdown",
   "id": "00f15010-f277-4d4c-abf5-e1fcfbf64502",
   "metadata": {},
   "source": [
    "$y' = \\dfrac{-\\dfrac{3x}{sin^2x} - 3(cotx + 2)}{9x^2}$"
   ]
  },
  {
   "cell_type": "markdown",
   "id": "1ed62912-9712-45b7-b176-98c077c38f30",
   "metadata": {},
   "source": [
    "8. $y = (3-7x)^9$"
   ]
  },
  {
   "cell_type": "markdown",
   "id": "adb7ee9b-fb66-4a49-8e06-c184187d2f67",
   "metadata": {},
   "source": [
    "$y' = -63\\cdot(3-7x)^8$"
   ]
  },
  {
   "cell_type": "markdown",
   "id": "996c07d7-8df2-4869-beaa-d2716df396d4",
   "metadata": {},
   "source": [
    "9. Найдите производную в точке $t = 3$:\n",
    "\n",
    "$y(t) = t^6 - 4t^3$"
   ]
  },
  {
   "cell_type": "markdown",
   "id": "f563280d-08a2-41ae-b13e-49f791d9e6b1",
   "metadata": {},
   "source": [
    "1350"
   ]
  },
  {
   "cell_type": "markdown",
   "id": "c505ff62-e3f2-47e9-8fff-363951225686",
   "metadata": {},
   "source": [
    "<img src=\"https://icons.iconarchive.com/icons/icons8/windows-8/256/Programming-Github-icon.png\" width=32 /> Пора сохранить изменения для __github__. \n",
    "\n",
    "1. Перейди в командной строке в папку, в которой расположен этот нотбук. \n",
    "2. Выполни команду `git add .`\n",
    "3. Выполни команду `git commit -m \"calculus tasks in progress\"`\n",
    "4. Выполни команду `git push`"
   ]
  },
  {
   "cell_type": "markdown",
   "id": "f43c7228-affc-4d7d-844f-a54cbb601bff",
   "metadata": {
    "tags": []
   },
   "source": [
    "### Градиентный спуск"
   ]
  },
  {
   "cell_type": "markdown",
   "id": "ffb41147-8055-45e0-a322-481d0da7047b",
   "metadata": {
    "tags": []
   },
   "source": [
    "#### Градиентный спуск функции одного переменного"
   ]
  },
  {
   "cell_type": "markdown",
   "id": "a4eb35ff-1235-461b-a86f-bade29046209",
   "metadata": {},
   "source": [
    "1. Задай функцию `loss`: она будет возвращать значение функции в точке. Для начала можно использовать простую функцию, например: \n",
    "$$f(x) = x^2 + 3$$"
   ]
  },
  {
   "cell_type": "code",
   "execution_count": 18,
   "id": "bcbb6360-3c83-47d2-a6c5-611e9d912973",
   "metadata": {},
   "outputs": [],
   "source": [
    "def loss(x):\n",
    "    loss = x**2 + 3\n",
    "    return loss"
   ]
  },
  {
   "cell_type": "markdown",
   "id": "8753a12a-826c-406a-9ca1-909c7f72cd7b",
   "metadata": {},
   "source": [
    "2. Задай функцию `derivative` - она будет возвращать значение производной функции `loss` в точке. "
   ]
  },
  {
   "cell_type": "code",
   "execution_count": 19,
   "id": "23554649-1790-4d8b-960e-b8aadc219256",
   "metadata": {},
   "outputs": [],
   "source": [
    "def derivative(x):\n",
    "    deriv = 2 * x\n",
    "    return deriv"
   ]
  },
  {
   "cell_type": "markdown",
   "id": "07b82bb8-912b-448e-8def-f70f531f4fee",
   "metadata": {},
   "source": [
    "3. Задай функцию `step` - она будет возвращать новое значение параметра по формуле:\n",
    "$$x_{i+1} = x_i - \\alpha \\frac{\\partial f(x)}{\\partial x_i}$$\n",
    "\n",
    "Входные аргументы: `x` - текущее значение параметра, `alpha` – скорость спуска. "
   ]
  },
  {
   "cell_type": "code",
   "execution_count": 20,
   "id": "24c05da5-88ff-4fea-ac0d-0d366396cb7e",
   "metadata": {},
   "outputs": [],
   "source": [
    "def step(x, alpha):\n",
    "    \"\"\"\n",
    "    input:\n",
    "        alpha - learning rate\n",
    "\n",
    "    returns:\n",
    "        coord - x_coord\n",
    "        f     - y_coord\n",
    "    \"\"\"\n",
    "    coord = x - alpha * derivative(x)\n",
    "    loss_value = loss(coord)\n",
    "    return coord, loss_value"
   ]
  },
  {
   "cell_type": "markdown",
   "id": "1574a96b-8b8d-4745-8c5f-b5e0e74b995d",
   "metadata": {},
   "source": [
    "4. Задай функцию `get_minima`, которая будет возвращать список, содержащий все значения параметра `x`, и список `loss_values`, который будет содержать значения функции `loss` для соответствующего параметра `x`. На вход функции поступает `x_0` – начальное значение параметра, `eps` – критерий останова. `alpha` - скорость спуска, которая будет передаваться в функцию `step`"
   ]
  },
  {
   "cell_type": "code",
   "execution_count": 21,
   "id": "356718cb-2b22-4634-a8a2-530151575eb6",
   "metadata": {},
   "outputs": [],
   "source": [
    "def get_minima(x_0, eps, alpha):\n",
    "    x_current = x_0\n",
    "    loss_current = loss(x_0)\n",
    "\n",
    "    x = []\n",
    "    loss_values = []\n",
    "\n",
    "    x.append(x_current)\n",
    "    loss_values.append(loss_current)\n",
    "\n",
    "    while True:\n",
    "        x_new, loss_new = step(x_current, alpha)\n",
    "        if abs(loss_new - loss_current) < eps:\n",
    "            print(\"x координата - \", x_current)\n",
    "            print(\"Наименьшее значение функции - \", loss_current)\n",
    "            break\n",
    "        else:\n",
    "            x.append(x_new)\n",
    "            loss_values.append(loss_new)\n",
    "            x_current, loss_current = x_new, loss_new\n",
    "    return np.array(x), np.array(loss_values)"
   ]
  },
  {
   "cell_type": "code",
   "execution_count": 22,
   "id": "06ca93a9-b244-4beb-8682-1b43e6bde8d0",
   "metadata": {},
   "outputs": [],
   "source": [
    "alpha = 0.1\n",
    "eps = 0.0001"
   ]
  },
  {
   "cell_type": "code",
   "execution_count": 23,
   "id": "d9c9e5d5-4036-437d-8793-b702d8586148",
   "metadata": {},
   "outputs": [
    {
     "name": "stdout",
     "output_type": "stream",
     "text": [
      "x координата -  0.014757395258967642\n",
      "Наименьшее значение функции -  3.0002177807148294\n"
     ]
    }
   ],
   "source": [
    "x_vals, loss_vals = get_minima(2, eps, alpha)"
   ]
  },
  {
   "cell_type": "markdown",
   "id": "8dd5e2fe-775a-46dd-a994-25937b50fd22",
   "metadata": {},
   "source": [
    "Нарисуй график функции `loss`. По координатам, возвращенным функцией `get_minima` нарисуй график движения градиентного спуска. "
   ]
  },
  {
   "cell_type": "code",
   "execution_count": 24,
   "id": "3195fd33-0c66-47cb-939a-06ef44c8c6fe",
   "metadata": {},
   "outputs": [
    {
     "data": {
      "image/png": "[encoded data removed]",
      "text/plain": [
       "<Figure size 640x480 with 1 Axes>"
      ]
     },
     "metadata": {},
     "output_type": "display_data"
    }
   ],
   "source": [
    "x = np.linspace(-4, 4, 1000)\n",
    "\n",
    "\n",
    "plt.plot(x, loss(x), color=\"blue\")\n",
    "plt.plot(x_vals, loss_vals, color=\"red\", marker=\"o\")\n",
    "plt.title(f\"learning_rate = {alpha}\")\n",
    "plt.grid()"
   ]
  },
  {
   "cell_type": "markdown",
   "id": "38c4e29b-329f-49e6-9599-ba14ddef6902",
   "metadata": {},
   "source": [
    "Нарисуй несколько графиков, соответствующих разным коэффициентам $\\alpha$. "
   ]
  },
  {
   "cell_type": "code",
   "execution_count": 25,
   "id": "61ddfbb2-9869-4d3f-97e3-e2c96a03b2dd",
   "metadata": {},
   "outputs": [],
   "source": [
    "# code"
   ]
  },
  {
   "cell_type": "markdown",
   "id": "2246df41-4da6-4217-adc0-2437f36887dc",
   "metadata": {},
   "source": [
    "❓ Как выбрать оптимальную скорость обучения?"
   ]
  },
  {
   "cell_type": "markdown",
   "id": "06459c09-f216-4fb5-970d-e6f27f1082af",
   "metadata": {},
   "source": [
    "> _ответ тут_"
   ]
  },
  {
   "cell_type": "markdown",
   "id": "576ec78b-e052-4e4d-b16a-3c8ef22adb58",
   "metadata": {},
   "source": [
    "❓Будет ли зависеть скорость работы всей процедуры от начального выбора значения искомого параметра?"
   ]
  },
  {
   "cell_type": "markdown",
   "id": "a5a97721-4571-46bd-ba27-ace6c5e0b83b",
   "metadata": {},
   "source": [
    "> ответ тут"
   ]
  },
  {
   "cell_type": "markdown",
   "id": "2bc32906-fb0c-41ba-82ca-ec05d5341e0d",
   "metadata": {},
   "source": [
    "Поэкспериментируй с результатом, задай функцию: \n",
    "$$f(x) = x^2 - x$$"
   ]
  },
  {
   "cell_type": "code",
   "execution_count": 26,
   "id": "2c544acf-bc08-4007-99cb-56e121b52be3",
   "metadata": {},
   "outputs": [],
   "source": [
    "def loss(x):\n",
    "    loss = x**2 - x\n",
    "    return loss\n",
    "\n",
    "\n",
    "def derivative(x):\n",
    "    deriv = 2 * x - 1\n",
    "    return deriv\n",
    "\n",
    "\n",
    "# get_minima(2, 0.0001, 0.1)"
   ]
  },
  {
   "cell_type": "markdown",
   "id": "abe9a567-4635-4e60-a3f6-3ec9f4bee7ad",
   "metadata": {},
   "source": [
    "#### Градиентный спуск для функции двух переменных"
   ]
  },
  {
   "cell_type": "markdown",
   "id": "a17ac4ae-38bf-458c-b7d6-1bd23f715188",
   "metadata": {},
   "source": [
    "1. Модифицируй функции из предыдущего задания и реализуй поиск минимума функции двух переменных. \n",
    "Функция для минимизации: \n",
    "$$\\mathcal{L} = x_1^2 + 2x_2^2 - 3x_1 - 4x_2$$\n",
    "\n",
    "В конце визуализируй результат аналогично предыдущему заданию."
   ]
  },
  {
   "cell_type": "markdown",
   "id": "7ae8a829-4b53-4410-b6bf-f9b930306cba",
   "metadata": {
    "tags": []
   },
   "source": [
    "$(\\frac{3}{2};1)$"
   ]
  },
  {
   "cell_type": "code",
   "execution_count": 27,
   "id": "ade88bba-8305-4805-b651-b62ad0e26e79",
   "metadata": {
    "tags": []
   },
   "outputs": [],
   "source": [
    "import numpy as np"
   ]
  },
  {
   "cell_type": "code",
   "execution_count": null,
   "id": "ab8fe56b-204c-4d14-b37c-17d76329db41",
   "metadata": {},
   "outputs": [],
   "source": [
    "def loss2(x):\n",
    "    x = np.array(x)\n",
    "\n",
    "    loss = x[0] ** 2 + 2 * x[1] ** 2 - 3 * x[0] - 4 * x[1]\n",
    "\n",
    "    return loss"
   ]
  },
  {
   "cell_type": "code",
   "execution_count": null,
   "id": "0f674bbb-e8d4-4a90-8397-3e57b818a32f",
   "metadata": {
    "tags": []
   },
   "outputs": [
    {
     "data": {
      "text/plain": [
       "np.float64(-4.25)"
      ]
     },
     "execution_count": 29,
     "metadata": {},
     "output_type": "execute_result"
    }
   ],
   "source": [
    "loss2([1.5, 1])"
   ]
  },
  {
   "cell_type": "code",
   "execution_count": null,
   "id": "14726a8d-c169-4f5b-890d-8dbfade62291",
   "metadata": {},
   "outputs": [],
   "source": [
    "def grad(x):\n",
    "    grad = np.array([2 * x[0] - 3, 4 * x[1] - 4])\n",
    "    return grad"
   ]
  },
  {
   "cell_type": "code",
   "execution_count": 32,
   "id": "829cb02c-0917-4e4d-b22a-02da35cfb939",
   "metadata": {
    "tags": []
   },
   "outputs": [
    {
     "data": {
      "text/plain": [
       "array([1, 4])"
      ]
     },
     "execution_count": 32,
     "metadata": {},
     "output_type": "execute_result"
    }
   ],
   "source": [
    "grad([2, 2])"
   ]
  },
  {
   "cell_type": "code",
   "execution_count": 33,
   "id": "71091e5e-2007-488b-9265-7d90ce666116",
   "metadata": {},
   "outputs": [],
   "source": [
    "def step(x, alpha):\n",
    "    \"\"\"\n",
    "    input:\n",
    "        alpha - learning rate\n",
    "\n",
    "    returns:\n",
    "        coord - [x1_coords, x2_coords]\n",
    "        f - y_coord\n",
    "    \"\"\"\n",
    "    coord = x - alpha * grad(x)\n",
    "    loss_value = loss(coord)\n",
    "\n",
    "    return coord, loss_value"
   ]
  },
  {
   "cell_type": "code",
   "execution_count": 34,
   "id": "954b686a-a1bd-4fa8-9c57-92e2b4071fd3",
   "metadata": {
    "tags": []
   },
   "outputs": [
    {
     "data": {
      "text/plain": [
       "(array([-2.9,  1.6]), np.float64(15.83))"
      ]
     },
     "execution_count": 34,
     "metadata": {},
     "output_type": "execute_result"
    }
   ],
   "source": [
    "step([-4, 2], 0.1)"
   ]
  },
  {
   "cell_type": "code",
   "execution_count": 35,
   "id": "d5cba3e4-0835-4d8c-9a19-1365827bc792",
   "metadata": {},
   "outputs": [],
   "source": [
    "def get_minima(x_0, eps, alpha):\n",
    "    x = [x_0]\n",
    "    loss_values = [loss(x_0)]\n",
    "\n",
    "    x_current = x_0\n",
    "    loss_current = loss(x_current)\n",
    "\n",
    "    while True:\n",
    "        x_new, loss_new = step(x_current, alpha)\n",
    "\n",
    "        x.append(x_new)\n",
    "        loss_values.append(loss_new)\n",
    "\n",
    "        if np.abs(loss_new - loss_current) < eps:\n",
    "            break\n",
    "\n",
    "        x_current = x_new\n",
    "        loss_current = loss_new\n",
    "\n",
    "    x = np.array(x)\n",
    "    return x, loss_values"
   ]
  },
  {
   "cell_type": "code",
   "execution_count": 36,
   "id": "b7ee3ee9-5e53-4339-b8ec-b61fe604ef9c",
   "metadata": {},
   "outputs": [
    {
     "data": {
      "text/plain": [
       "[np.int64(4520),\n",
       " np.float64(2039.5099999999993),\n",
       " np.float64(997.1227999999998),\n",
       " np.float64(526.2404959999998),\n",
       " np.float64(295.5242028799999),\n",
       " np.float64(173.2991926015999),\n",
       " np.float64(104.23121625804795),\n",
       " np.float64(63.32388228263936),\n",
       " np.float64(38.3298100567851),\n",
       " np.float64(22.76078757886498),\n",
       " np.float64(12.950399341781697),\n",
       " np.float64(6.72711388361121),\n",
       " np.float64(2.7641418752647047),\n",
       " np.float64(0.23501483648068255),\n",
       " np.float64(-1.3810434515803065),\n",
       " np.float64(-2.4143908699054544),\n",
       " np.float64(-3.0753984586613523),\n",
       " np.float64(-3.498322802235135),\n",
       " np.float64(-3.7689509973595596),\n",
       " np.float64(-3.942137423724584),\n",
       " np.float64(-4.052971113932942),\n",
       " np.float64(-4.123902651506797),\n",
       " np.float64(-4.1692981068566475),\n",
       " np.float64(-4.198350935949482),\n",
       " np.float64(-4.21694465212971),\n",
       " np.float64(-4.228844596486949),\n",
       " np.float64(-4.236460548636264),\n",
       " np.float64(-4.241334753605671),\n",
       " np.float64(-4.2444542431998755),\n",
       " np.float64(-4.246450715969129),\n",
       " np.float64(-4.247728458335879),\n",
       " np.float64(-4.24854621337659),\n",
       " np.float64(-4.249069576576004),\n",
       " np.float64(-4.249404529014037),\n",
       " np.float64(-4.249618898570926),\n",
       " np.float64(-4.249756095086092),\n",
       " np.float64(-4.249843900855351),\n",
       " np.float64(-4.249900096547515),\n",
       " np.float64(-4.249936061790443),\n",
       " np.float64(-4.249959079545894),\n",
       " np.float64(-4.249973810909377),\n",
       " np.float64(-4.2499832389820025)]"
      ]
     },
     "execution_count": 36,
     "metadata": {},
     "output_type": "execute_result"
    }
   ],
   "source": [
    "x, loss_values = get_minima([40, 40], 0.00001, 0.1)\n",
    "loss_values"
   ]
  },
  {
   "cell_type": "markdown",
   "id": "4fcf6447-d74c-444b-bb57-06355ca6a96a",
   "metadata": {},
   "source": [
    "$$\\mathcal{L} = x_1^2 + 2x_2^2 - 3x_1 - 4x_2$$"
   ]
  },
  {
   "cell_type": "code",
   "execution_count": 37,
   "id": "e890c311-34e0-403c-9393-208b14d641a7",
   "metadata": {
    "tags": []
   },
   "outputs": [
    {
     "data": {
      "image/png": "[encoded data removed]",
      "text/plain": [
       "<Figure size 640x480 with 1 Axes>"
      ]
     },
     "metadata": {},
     "output_type": "display_data"
    }
   ],
   "source": [
    "import matplotlib.pyplot as plt\n",
    "import numpy as np\n",
    "\n",
    "from matplotlib import cm\n",
    "\n",
    "fig, ax = plt.subplots(subplot_kw={\"projection\": \"3d\"})\n",
    "\n",
    "# Make data.\n",
    "# X = x[:, 0]\n",
    "# Y = x[:, 1]\n",
    "\n",
    "X = np.arange(-40, 40, 0.2)\n",
    "Y = np.arange(-40, 40, 0.2)\n",
    "X, Y = np.meshgrid(X, Y)\n",
    "\n",
    "Z = X**2 + 2 * Y**2 - 3 * X - 4 * Y\n",
    "\n",
    "# Plot the surface.\n",
    "surf = ax.plot_surface(\n",
    "    X, Y, Z, cmap=cm.coolwarm, linewidth=0, antialiased=False, alpha=0.2\n",
    ")\n",
    "\n",
    "\n",
    "ax.plot(x[:, 0], x[:, 1], loss_values, color=\"k\", marker=\"o\")\n",
    "\n",
    "\n",
    "plt.show()"
   ]
  },
  {
   "cell_type": "markdown",
   "id": "67fa1f64-117d-4702-bc81-e491ff10c776",
   "metadata": {},
   "source": [
    "2. С помощью градиентного _спуска_ найти __максимум__ функции и визуализировать результат: \n",
    "$$f(w_1, w_2) = \\dfrac{1}{1+w_1^2} + \\dfrac{1}{1+w_2^2}$$"
   ]
  },
  {
   "cell_type": "code",
   "execution_count": null,
   "id": "b352220e-1ad2-4c25-b67c-78837fe4a851",
   "metadata": {},
   "outputs": [],
   "source": [
    "def loss(x):\n",
    "    loss = (1 / (1 + x[0] ** 2)) + (1 / (1 + x[1] ** 2))\n",
    "    return loss"
   ]
  },
  {
   "cell_type": "code",
   "execution_count": null,
   "id": "9fc65e97-d6b6-497e-ac64-35f3c74b8fc0",
   "metadata": {},
   "outputs": [],
   "source": [
    "def derivative(x):\n",
    "    deriv = np.array(\n",
    "        [-(2 * x[0]) / (1 + x[0] ** 2) ** 2, -(2 * x[1]) / (1 + x[1] ** 2) ** 2]\n",
    "    )\n",
    "    return deriv"
   ]
  },
  {
   "cell_type": "code",
   "execution_count": null,
   "id": "536f3d52-e922-442a-9a03-29eeeca8a018",
   "metadata": {},
   "outputs": [],
   "source": [
    "def step(x, alpha):\n",
    "    \"\"\"\n",
    "    input:\n",
    "        alpha - learning rate\n",
    "\n",
    "    returns:\n",
    "        coord - [x1_coords, x2_coords]\n",
    "        f - y_coord\n",
    "    \"\"\"\n",
    "    coord = np.array(x) + alpha * derivative(x)\n",
    "    loss_value = loss(coord)\n",
    "    return coord, loss_value"
   ]
  },
  {
   "cell_type": "code",
   "execution_count": null,
   "id": "04af4da5-5f55-4d47-afc9-ab1e9f839c6a",
   "metadata": {},
   "outputs": [],
   "source": [
    "def get_minima(x_0, eps, alpha):\n",
    "    x_current = np.array(x_0)\n",
    "    loss_current = np.array(loss(x_0))\n",
    "\n",
    "    x = []\n",
    "    loss_values = []\n",
    "\n",
    "    x.append(x_current)\n",
    "    loss_values.append(loss_current)\n",
    "\n",
    "    while True:\n",
    "        x_new, loss_new = step(x_current, alpha)\n",
    "        if abs(loss_new - loss_current) < eps:\n",
    "            print(\"x координата - \", x_current)\n",
    "            print(\"Наибольшее значение функции - \", loss_current)\n",
    "            break\n",
    "        else:\n",
    "            x.append(x_new)\n",
    "            loss_values.append(loss_new)\n",
    "            x_current, loss_current = x_new, loss_new\n",
    "    return x, loss_values"
   ]
  },
  {
   "cell_type": "code",
   "execution_count": null,
   "id": "07753c7d-c744-4dcd-ab5a-4a7232bdd9c9",
   "metadata": {},
   "outputs": [],
   "source": [
    "# get_minima([5,5], 0.00001, 0.1)"
   ]
  },
  {
   "cell_type": "markdown",
   "id": "9a49b4e4-4ee4-4205-a1a2-2f60ec91214f",
   "metadata": {},
   "source": [
    "3. С помощью градиентного спуска найти минимум функции и визуализировать результат: \n",
    "$$f(x, y) = (5x)^2 + y^2$$"
   ]
  },
  {
   "cell_type": "code",
   "execution_count": null,
   "id": "f440c095-8b23-450b-855a-1a1912278fde",
   "metadata": {},
   "outputs": [],
   "source": [
    "def loss(x):\n",
    "    loss = 25 * x[0] ** 2 + x[1] ** 2\n",
    "    return loss\n",
    "\n",
    "\n",
    "def derivative(x):\n",
    "    deriv = np.array([50 * x[0], 2 * x[1]])\n",
    "    return deriv\n",
    "\n",
    "\n",
    "def step(x, alpha):\n",
    "    \"\"\"\n",
    "    input:\n",
    "        alpha - learning rate\n",
    "\n",
    "    returns:\n",
    "        coord - [x1_coords, x2_coords]\n",
    "        f - y_coord\n",
    "    \"\"\"\n",
    "    coord = np.array(x) - alpha * derivative(x)\n",
    "    loss_value = loss(coord)\n",
    "    return coord, loss_value\n",
    "\n",
    "\n",
    "def get_minima(x_0, eps, alpha):\n",
    "    x_current = np.array(x_0)\n",
    "    loss_current = np.array(loss(x_0))\n",
    "\n",
    "    x = []\n",
    "    loss_values = []\n",
    "\n",
    "    x.append(x_current)\n",
    "    loss_values.append(loss_current)\n",
    "\n",
    "    while True:\n",
    "        x_new, loss_new = step(x_current, alpha)\n",
    "        # print(x_new, loss_new)\n",
    "        if abs(loss_new - loss_current) < eps:\n",
    "            print(\"x координата - \", x_current)\n",
    "            print(\"Наименьшее значение функции - \", loss_current)\n",
    "            break\n",
    "        else:\n",
    "            x.append(x_new)\n",
    "            loss_values.append(loss_new)\n",
    "            x_current, loss_current = x_new, loss_new\n",
    "    return x, loss_values\n",
    "\n",
    "\n",
    "# get_minima([5,5], 0.000001, 0.01)"
   ]
  },
  {
   "cell_type": "markdown",
   "id": "02d9e607-2710-41d4-9d4b-3d222d93c507",
   "metadata": {},
   "source": [
    "<img src=\"https://icons.iconarchive.com/icons/icons8/windows-8/256/Programming-Github-icon.png\" width=32 /> Пора сохранить изменения для __github__. \n",
    "\n",
    "1. Перейди в командной строке в папку, в которой расположен этот нотбук. \n",
    "2. Выполни команду `git add .`\n",
    "3. Выполни команду `git commit -m \"calculus tasks stage 2\"`\n",
    "4. Выполни команду `git push`"
   ]
  },
  {
   "cell_type": "markdown",
   "id": "bb04962b-1b2e-4f0b-b428-dfb279d9e014",
   "metadata": {},
   "source": [
    "#### Адаптивная скорость обучения\n",
    "\n",
    "Модифицируй одну из предыдущих реализаций, добавив [адаптивный подбор скорости обучения](https://en.wikipedia.org/wiki/Learning_rate) (time-based, step-based, exponential)"
   ]
  },
  {
   "cell_type": "markdown",
   "id": "0d3fee30-57d2-441f-b0a1-91891f08e5ee",
   "metadata": {},
   "source": [
    "$ \\displaystyle \\eta _ {n + 1} = {\\frac {\\eta _ {n}} {1 + d_n}}$"
   ]
  },
  {
   "cell_type": "code",
   "execution_count": null,
   "id": "f35bb4ea-61cf-4b11-932b-6fa3bbe78ead",
   "metadata": {},
   "outputs": [],
   "source": [
    "def loss(x):\n",
    "    loss = x**2 + 3\n",
    "    return loss\n",
    "\n",
    "\n",
    "def derivative(x):\n",
    "    deriv = 2 * x\n",
    "    return deriv\n",
    "\n",
    "\n",
    "def step(x, alpha, dn):\n",
    "    \"\"\"\n",
    "    input:\n",
    "        alpha - learning rate\n",
    "\n",
    "    returns:\n",
    "        coord - x_coord\n",
    "        f     - y_coord\n",
    "    \"\"\"\n",
    "    coord = x - (alpha / (1 + dn)) * derivative(x)\n",
    "    loss_value = loss(coord)\n",
    "    return coord, loss_value\n",
    "\n",
    "\n",
    "def get_minima(x_0, eps, alpha, dn):\n",
    "    x_current = x_0\n",
    "    loss_current = loss(x_0)\n",
    "\n",
    "    x = []\n",
    "    loss_values = []\n",
    "\n",
    "    x.append(x_current)\n",
    "    loss_values.append(loss_current)\n",
    "    i = 0\n",
    "\n",
    "    while True:\n",
    "        x_new, loss_new = step(x_current, alpha, dn * i)\n",
    "        if abs(loss_new - loss_current) < eps:\n",
    "            print(\"x координата - \", x_current)\n",
    "            print(\"Наименьшее значение функции - \", loss_current)\n",
    "            break\n",
    "        else:\n",
    "            x.append(x_new)\n",
    "            loss_values.append(loss_new)\n",
    "            x_current, loss_current = x_new, loss_new\n",
    "        i += 1\n",
    "    return np.array(x), np.array(loss_values)"
   ]
  },
  {
   "cell_type": "code",
   "execution_count": null,
   "id": "861b0c6c-45fe-4f15-9b9c-1c676b8d1022",
   "metadata": {},
   "outputs": [
    {
     "name": "stdout",
     "output_type": "stream",
     "text": [
      "x координата -  0.06723910628992527\n",
      "Наименьшее значение функции -  3.004521097414668\n"
     ]
    }
   ],
   "source": [
    "alpha = 0.1\n",
    "eps = 0.0000001\n",
    "dn = 0.5\n",
    "\n",
    "x_vals, loss_vals = get_minima(4, eps, alpha, dn)"
   ]
  },
  {
   "cell_type": "code",
   "execution_count": null,
   "id": "d406610f-ad3c-40a6-83e0-d0d7dfab08f4",
   "metadata": {},
   "outputs": [
    {
     "data": {
      "image/png": "[encoded data removed]",
      "text/plain": [
       "<Figure size 640x480 with 1 Axes>"
      ]
     },
     "metadata": {},
     "output_type": "display_data"
    }
   ],
   "source": [
    "x = np.linspace(-4, 4, 1000)\n",
    "\n",
    "\n",
    "plt.plot(x, loss(x), color=\"blue\")\n",
    "plt.plot(x_vals, loss_vals, color=\"red\", marker=\"o\")\n",
    "plt.title(f\"learning_rate = {alpha}\")\n",
    "plt.grid()"
   ]
  },
  {
   "cell_type": "markdown",
   "id": "516e25b5",
   "metadata": {},
   "source": [
    "#### Решение системы линейных уравнений с помощью градиентного спуска\n",
    "\n",
    "\n",
    "Реализуй класс `Solver` для вычисления решения системы линейных уравнений произвольного размера.  \n",
    "\n",
    "Логика работы класса должна быть следующей: \n",
    "\n",
    "```python\n",
    "\n",
    "solver = Solver(X, y)\n",
    "solver.fit(learning_rate=0.01, n_iter=10)\n",
    "print(solver.mse())\n",
    ">>> Mean squared error: 0.00313\n",
    "print(solver.coef_)\n",
    ">>> [.5, 1, -2]\n",
    "\n",
    "```\n",
    "\n",
    "`X` – матрица системы\n",
    "\n",
    "`y` – вектор ответов\n",
    "\n",
    "`learning_rate` – шаг градинтного спуска\n",
    "\n",
    "`n_iter` - число итераций. \n",
    "\n",
    "Метод `mse` вычисляет среднеквадратическую ошибку: `sum((y - X@w)**2) / len(w)`, где `w` - искомый вектор коэффициентов. \n",
    "\n",
    "Попробуй решить с помощью реализованного класса систему уравнений:\n",
    "$$\n",
    "\\begin{cases}\n",
    "2w_1 + 3w_2 - w_3 = 9 \\\\\n",
    "w_1 -2w_2 + w_3 = 3 \\\\\n",
    "w_1 + 2w_3 = 2\n",
    "\\end{cases}\n",
    "$$\n",
    "\n",
    "Решение уравнения выше – 4, 0, -1. Значения, которые ты получишь в процессе оптимизации могут незначительно отличаться. \n"
   ]
  },
  {
   "cell_type": "code",
   "execution_count": null,
   "id": "48d9b972",
   "metadata": {},
   "outputs": [],
   "source": [
    "X = np.array([[2, 3, -1], [1, -2, 1], [1, 0, 2]])\n",
    "\n",
    "y = np.array([9, 3, 2])"
   ]
  },
  {
   "cell_type": "code",
   "execution_count": null,
   "id": "750de713",
   "metadata": {},
   "outputs": [],
   "source": [
    "# code"
   ]
  },
  {
   "cell_type": "code",
   "execution_count": null,
   "id": "fc914537",
   "metadata": {},
   "outputs": [],
   "source": [
    "solver = Solver(X, y)\n",
    "solver.fit(0.1, 100)\n",
    "solver.mse()"
   ]
  },
  {
   "cell_type": "markdown",
   "id": "a6a9c32d-5b0b-485d-b5a0-69904ad792cb",
   "metadata": {},
   "source": [
    "#### Реализация класса оптимизатора\n",
    "\n",
    "Реализуй класс, который `Optimizer`, который будет решать задачу минимизации функции, сохранения истории процедуры, визуализации и возможностью выбирать один из типов управления скоростью обучения. Добавь возможность задания параметра для реализации остановки. "
   ]
  },
  {
   "cell_type": "code",
   "execution_count": null,
   "id": "9a15cc27-2eef-4da8-86cd-021192781dd3",
   "metadata": {},
   "outputs": [],
   "source": [
    "class Optimizer:\n",
    "    pass"
   ]
  },
  {
   "cell_type": "markdown",
   "id": "e45ff4ae-03e5-451f-a9a1-8f87240e2c85",
   "metadata": {},
   "source": [
    "<img src=\"https://icons.iconarchive.com/icons/icons8/windows-8/256/Programming-Github-icon.png\" width=32 /> Сохрани файл для __github__. \n",
    "\n",
    "1. Перейди в командной строке в папку, в которой расположен этот нотбук. \n",
    "2. Выполни команду `git add .`\n",
    "3. Выполни команду `git commit -m \"calculus tasks completed\"`\n",
    "4. Выполни команду `git push`"
   ]
  }
 ],
 "metadata": {
  "kernelspec": {
   "display_name": ".venv (3.12.10)",
   "language": "python",
   "name": "python3"
  },
  "language_info": {
   "codemirror_mode": {
    "name": "ipython",
    "version": 3
   },
   "file_extension": ".py",
   "mimetype": "text/x-python",
   "name": "python",
   "nbconvert_exporter": "python",
   "pygments_lexer": "ipython3",
   "version": "3.12.10"
  }
 },
 "nbformat": 4,
 "nbformat_minor": 5
}
