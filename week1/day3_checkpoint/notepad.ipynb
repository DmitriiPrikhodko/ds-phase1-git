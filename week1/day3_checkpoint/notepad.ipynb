{
 "cells": [
  {
   "cell_type": "markdown",
   "metadata": {},
   "source": [
    "## Описание\n",
    "\n",
    "#### **Условие:**\n",
    "Производитель заявляет, что среднее время до первого отказа станка ($\\mu$) составляет **1000 часов**. Инженер протестировал **50 станков** и записал их время до отказа (в часах):"
   ]
  },
  {
   "cell_type": "code",
   "execution_count": 17,
   "metadata": {},
   "outputs": [],
   "source": [
    "import numpy as np\n",
    "import matplotlib.pyplot as plt\n",
    "import scipy.stats as st\n",
    "\n",
    "sample = np.array(\n",
    "    [\n",
    "        850,\n",
    "        1200,\n",
    "        600,\n",
    "        1500,\n",
    "        900,\n",
    "        1100,\n",
    "        800,\n",
    "        950,\n",
    "        1300,\n",
    "        700,\n",
    "        500,\n",
    "        1400,\n",
    "        1000,\n",
    "        750,\n",
    "        1150,\n",
    "        1800,\n",
    "        550,\n",
    "        1250,\n",
    "        650,\n",
    "        950,\n",
    "        1050,\n",
    "        300,\n",
    "        1600,\n",
    "        850,\n",
    "        720,\n",
    "        920,\n",
    "        1100,\n",
    "        800,\n",
    "        1350,\n",
    "        400,\n",
    "        1500,\n",
    "        670,\n",
    "        1180,\n",
    "        980,\n",
    "        830,\n",
    "        1130,\n",
    "        770,\n",
    "        1020,\n",
    "        1450,\n",
    "        590,\n",
    "        1080,\n",
    "        870,\n",
    "        1320,\n",
    "        930,\n",
    "        680,\n",
    "        1520,\n",
    "        790,\n",
    "        1110,\n",
    "        1260,\n",
    "        550,\n",
    "    ]\n",
    ")"
   ]
  },
  {
   "cell_type": "markdown",
   "metadata": {},
   "source": [
    "### **Задача:**  \n",
    "Проверить на уровне значимости $\\alpha = 0.05$, соответствует ли заявленное среднее время отказа реальности, или станки отказывают **раньше** (левосторонний тест). "
   ]
  },
  {
   "cell_type": "code",
   "execution_count": 18,
   "metadata": {},
   "outputs": [],
   "source": [
    "import numpy as np\n",
    "import matplotlib.pyplot as plt\n",
    "from scipy.stats import binom"
   ]
  },
  {
   "cell_type": "markdown",
   "metadata": {},
   "source": [
    "### Задай параметры распределния"
   ]
  },
  {
   "cell_type": "code",
   "execution_count": 19,
   "metadata": {},
   "outputs": [],
   "source": [
    "n = len(sample)  # количество испытаний\n",
    "mu0 = 1000  # Заявленное среднее\n",
    "alpha = 0.05  # уровень значимости"
   ]
  },
  {
   "cell_type": "markdown",
   "metadata": {},
   "source": [
    "### Какой тип распределения? Напиши текстом"
   ]
  },
  {
   "cell_type": "markdown",
   "metadata": {},
   "source": [
    "> Нормальное"
   ]
  },
  {
   "cell_type": "code",
   "execution_count": 20,
   "metadata": {},
   "outputs": [],
   "source": [
    "# вычисли среднее значение\n",
    "sample_mean = sample.mean()"
   ]
  },
  {
   "cell_type": "code",
   "execution_count": 21,
   "metadata": {},
   "outputs": [],
   "source": [
    "# стандартное отклонение\n",
    "sigma = np.std(sample, ddof=1)  # / np.sqrt(n)"
   ]
  },
  {
   "cell_type": "code",
   "execution_count": 22,
   "metadata": {},
   "outputs": [],
   "source": [
    "# рассчитай по z-критерию\n",
    "z_stat = (sample_mean - mu0) / (sigma / np.sqrt(n))  # значение статистики\n",
    "z_distr = st.norm(loc=mu0, scale=sigma)\n",
    "z_crit = z_distr.ppf(0.05)  # критическое значение для уровня значимости"
   ]
  },
  {
   "cell_type": "code",
   "execution_count": 23,
   "metadata": {},
   "outputs": [],
   "source": [
    "p_value = z_distr.cdf(0.05)  # p-значение"
   ]
  },
  {
   "cell_type": "code",
   "execution_count": 24,
   "metadata": {},
   "outputs": [
    {
     "name": "stdout",
     "output_type": "stream",
     "text": [
      "Выборочное среднее: 984.40 часов\n",
      "z-статистика: -0.3319\n",
      "p-value: 0.0013\n",
      "Критическое z: 453.3904\n"
     ]
    }
   ],
   "source": [
    "print(f\"Выборочное среднее: {sample_mean:.2f} часов\")\n",
    "print(f\"z-статистика: {z_stat:.4f}\")\n",
    "print(f\"p-value: {p_value:.4f}\")\n",
    "print(f\"Критическое z: {z_crit:.4f}\")"
   ]
  },
  {
   "cell_type": "markdown",
   "metadata": {},
   "source": [
    "### Отвергаем ли гипотезу $H_0$?"
   ]
  },
  {
   "cell_type": "markdown",
   "metadata": {},
   "source": [
    "> $p-value < \\alpha$, значит гипотезу $H_0$ отвергаем. Т.е. среднее время отказа меньше 1000 часов"
   ]
  }
 ],
 "metadata": {
  "kernelspec": {
   "display_name": ".venv (3.12.10)",
   "language": "python",
   "name": "python3"
  },
  "language_info": {
   "codemirror_mode": {
    "name": "ipython",
    "version": 3
   },
   "file_extension": ".py",
   "mimetype": "text/x-python",
   "name": "python",
   "nbconvert_exporter": "python",
   "pygments_lexer": "ipython3",
   "version": "3.12.10"
  }
 },
 "nbformat": 4,
 "nbformat_minor": 4
}
