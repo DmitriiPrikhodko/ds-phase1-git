{
 "cells": [
  {
   "cell_type": "markdown",
   "id": "5e12cfa3-5597-4591-9203-793f4de5c703",
   "metadata": {},
   "source": [
    "## Фаза 1. Неделя 1. Вторник\n",
    "### Проверка статистических гипотез"
   ]
  },
  {
   "cell_type": "code",
   "execution_count": 42,
   "id": "86c357bc-5704-44c5-8070-86f272683244",
   "metadata": {},
   "outputs": [],
   "source": [
    "import pandas\n",
    "import numpy as np\n",
    "import seaborn as sns\n",
    "import scipy.stats as st\n",
    "\n",
    "# from statsmodels.stats.proportion import proportions_ztest\n",
    "from matplotlib import pyplot as plt"
   ]
  },
  {
   "cell_type": "markdown",
   "id": "df0800f5",
   "metadata": {},
   "source": [
    "## Блок 1. Устройство статистических тестов для проверки гипотез (пайплайн проверки гипотез)"
   ]
  },
  {
   "cell_type": "markdown",
   "id": "a44e5810",
   "metadata": {},
   "source": [
    "1. Исходная выборка/выборки из ГС\n",
    "2. Сформулировать основную и альтернативную гипотезы\n",
    "3. Зафиксировать уровень значимости($\\alpha$) и выбрать статистику\n",
    "4. Вычисляем значение статистики, которое получили по выборке\n",
    "5. Так как выборка это случайность, то __статистика(метрика) вычисленная по ней - тоже случайная величина, ведь зависит от выборки, полученной случайно, а значит имеет распределение__. Нам важно его знать\n",
    "6. Зная распределение статистики, мы можем по полученному нами значению(пункт 4) понять, аномальное значение мы получили в конектсте нашего распределения или же нет.\n",
    "7. Принять решение о справедливости гипотезы на уровне значимости $\\alpha$\n",
    "\n",
    "\n",
    "\n",
    "* [Небольшое видео об этом](https://vk.com/video/playlist/-92204627_81?section=playlist_81&z=video-92204627_456239812%2Fclub92204627%2Fpl_-92204627_81)"
   ]
  },
  {
   "cell_type": "markdown",
   "id": "7d1e2049",
   "metadata": {},
   "source": [
    "#### **Примечание:** 📚 В лекции у нас был пример с проверкой гипотезы о доле, а ниже задачи с гипотезой о среднем. Однако, все на самом деле работает точно так же по пайплайну, описанному выше. 🔄\n",
    "\n"
   ]
  },
  {
   "cell_type": "markdown",
   "id": "2a782aa0-febe-44e5-9906-00b3308f7652",
   "metadata": {},
   "source": [
    "##### 1.1 Проверка гипотезы о среднем\n",
    "\n",
    "* у вас есть веб-сервис для онлайн-курсов, и вы решили внедрить новую ML-модель рекомендаций курсов для увеличения уровня участия студентов. Вы хотите оценить, насколько новая система рекомендаций влияет на время, которое студенты проводят на платформе.\n",
    "\n",
    "* случайным образом выбрано 100 студентов и записано количество часов, которое они провели на платформе через месяц после.\n",
    "\n",
    "* ранее среднее время составляло 29.07 часа. Проверьте, есть ли статистически значимое улучшение на уровне значимости $\\alpha = 0.05$ от ML-модели."
   ]
  },
  {
   "cell_type": "markdown",
   "id": "02faf40e-e5dc-42af-97bb-d8e1d271219b",
   "metadata": {},
   "source": [
    "$H_0: \\mu = 29.07$\n",
    "\n",
    "$H_1: \\mu > 29.07$"
   ]
  },
  {
   "cell_type": "code",
   "execution_count": 43,
   "id": "107345aa",
   "metadata": {},
   "outputs": [],
   "source": [
    "arr = np.array(\n",
    "    [\n",
    "        28.91,\n",
    "        26.45,\n",
    "        30.97,\n",
    "        32.58,\n",
    "        30.23,\n",
    "        27.26,\n",
    "        31.33,\n",
    "        30.4,\n",
    "        28.29,\n",
    "        27.26,\n",
    "        26.08,\n",
    "        33.19,\n",
    "        29.18,\n",
    "        27.32,\n",
    "        31.36,\n",
    "        30.74,\n",
    "        28.86,\n",
    "        27.87,\n",
    "        26.37,\n",
    "        33.56,\n",
    "        29.09,\n",
    "        27.81,\n",
    "        31.07,\n",
    "        30.73,\n",
    "        28.94,\n",
    "        27.02,\n",
    "        26.76,\n",
    "        33.97,\n",
    "        29.73,\n",
    "        27.86,\n",
    "        31.28,\n",
    "        30.01,\n",
    "        28.55,\n",
    "        27.1,\n",
    "        26.46,\n",
    "        33.22,\n",
    "        29.55,\n",
    "        27.41,\n",
    "        31.09,\n",
    "        30.88,\n",
    "        28.01,\n",
    "        27.48,\n",
    "        26.61,\n",
    "        33.19,\n",
    "        29.67,\n",
    "        27.22,\n",
    "        31.02,\n",
    "        30.16,\n",
    "        28.92,\n",
    "        27.79,\n",
    "        26.58,\n",
    "        33.81,\n",
    "        29.42,\n",
    "        27.89,\n",
    "        31.13,\n",
    "        30.15,\n",
    "        28.51,\n",
    "        27.21,\n",
    "        26.53,\n",
    "        33.1,\n",
    "        29.14,\n",
    "        27.27,\n",
    "        31.71,\n",
    "        30.84,\n",
    "        28.05,\n",
    "        27.16,\n",
    "        26.04,\n",
    "        33.7,\n",
    "        29.92,\n",
    "        27.89,\n",
    "        31.87,\n",
    "        30.99,\n",
    "        28.84,\n",
    "        27.5,\n",
    "        26.87,\n",
    "        33.6,\n",
    "        30.0,\n",
    "        27.32,\n",
    "        31.85,\n",
    "        30.67,\n",
    "        28.94,\n",
    "        27.69,\n",
    "        26.65,\n",
    "        33.29,\n",
    "        29.34,\n",
    "        27.71,\n",
    "        31.62,\n",
    "        30.48,\n",
    "        28.18,\n",
    "        27.77,\n",
    "        26.61,\n",
    "        33.19,\n",
    "        29.7,\n",
    "        27.47,\n",
    "        31.05,\n",
    "        30.14,\n",
    "        28.4,\n",
    "        27.52,\n",
    "        26.19,\n",
    "        34.04,\n",
    "    ]\n",
    ")"
   ]
  },
  {
   "cell_type": "markdown",
   "id": "f1554300-09d7-4d3b-b49d-238d56dceb1e",
   "metadata": {},
   "source": [
    "* Ну что ж, нам нужна __статистика__, которая агрегирует всю информацию о выборке.\n",
    "\n",
    "* если выбрать статистику $T(X) = \\dfrac{1}{n} \\sum_{i=1}^{n}x_i = \\overline{X}$, то мы имеем дело со знакомым уже нам выборчным средним. Можно как минимум воспользоваться [Центральной Предельной Теоремой](https://nesrakonk.ru/central_limit_theorem-2/), при ней мы знаем, что $\\overline{X} \\sim N(\\mu, \\dfrac{\\sigma^2}{n})$"
   ]
  },
  {
   "cell_type": "markdown",
   "id": "1cec1da2-caf8-4b7e-bea2-643f57dc0129",
   "metadata": {},
   "source": [
    "В Нашем случае мы предполагам что $\\mu = 29.07$, но мы не знаем дисперсию $\\sigma^2$ у ГС. Поэтому приблизим выборчной дисперсией $s^2 = \\dfrac{1}{n-1} \\sum_{i=1}^n (x_i - \\overline{X}) ^ 2$."
   ]
  },
  {
   "cell_type": "markdown",
   "id": "c9ee5999-ae02-4ec3-8069-61b90f8ef421",
   "metadata": {},
   "source": [
    "* 1.1.1 Посчитайте значение статистики, полученной по нашей выборке"
   ]
  },
  {
   "cell_type": "code",
   "execution_count": 44,
   "id": "44d64c48-61c6-4ff5-b696-a3aba32e972c",
   "metadata": {},
   "outputs": [
    {
     "data": {
      "text/plain": [
       "np.float64(29.383499999999998)"
      ]
     },
     "execution_count": 44,
     "metadata": {},
     "output_type": "execute_result"
    }
   ],
   "source": [
    "t_stat = arr.mean()\n",
    "t_stat"
   ]
  },
  {
   "cell_type": "markdown",
   "id": "dc972605-cd71-4a84-9d6b-7cc663e24c7b",
   "metadata": {},
   "source": [
    "* 1.1.2 С помощью [scipy](https://docs.scipy.org/doc/scipy/reference/generated/scipy.stats.norm.html) создайте экземпляр класса распределения вашей статистики, с ее параметрами. "
   ]
  },
  {
   "cell_type": "code",
   "execution_count": 45,
   "id": "97e61c49-8705-426c-81b0-95f9b9ed6d61",
   "metadata": {},
   "outputs": [
    {
     "data": {
      "text/plain": [
       "np.float64(2.2278573186636597)"
      ]
     },
     "execution_count": 45,
     "metadata": {},
     "output_type": "execute_result"
    }
   ],
   "source": [
    "mu = 29.07\n",
    "sigma = np.std(arr, ddof=1)  # / np.sqrt(len(arr))\n",
    "distr = st.norm(mu, sigma)\n",
    "sigma"
   ]
  },
  {
   "cell_type": "markdown",
   "id": "965d23e7-9761-48c5-8267-cfa01f18d729",
   "metadata": {},
   "source": [
    "* 1.1.3 Посчитайте критическое значение для вашей статистики"
   ]
  },
  {
   "cell_type": "code",
   "execution_count": 46,
   "id": "411dbe9b-a8aa-4a03-a5c5-033cffa3274e",
   "metadata": {},
   "outputs": [
    {
     "data": {
      "text/plain": [
       "np.float64(32.7344991909343)"
      ]
     },
     "execution_count": 46,
     "metadata": {},
     "output_type": "execute_result"
    }
   ],
   "source": [
    "alpha = 0.05\n",
    "t_crit = distr.ppf(1 - alpha)\n",
    "t_crit"
   ]
  },
  {
   "cell_type": "markdown",
   "id": "2f41ad93-143e-4d3a-a977-19980c0b5b5d",
   "metadata": {},
   "source": [
    "* 1.1.4 Нарисуйте график распределения вашей статистики, отобразите на нем следующее:\n",
    "    1. Пунктирной линией t_stat\n",
    "    2. Пунктирной линией t_crit"
   ]
  },
  {
   "cell_type": "code",
   "execution_count": 62,
   "id": "bbe49a6d-2e60-4367-b92b-0002611f9926",
   "metadata": {},
   "outputs": [
    {
     "data": {
      "text/plain": [
       "''"
      ]
     },
     "execution_count": 62,
     "metadata": {},
     "output_type": "execute_result"
    },
    {
     "data": {
      "image/png": "[encoded data removed]",
      "text/plain": [
       "<Figure size 640x480 with 1 Axes>"
      ]
     },
     "metadata": {},
     "output_type": "display_data"
    }
   ],
   "source": [
    "plt.style.use('bmh')\n",
    "x = np.linspace(mu - 4 * sigma, mu + 4 * sigma, 1000)\n",
    "y = distr.pdf(x) # type: ignore\n",
    "plt.plot(x, y)\n",
    "plt.xlabel('Кол-во часов на платформе')\n",
    "plt.axvline(t_crit, color='blue', linestyle='-.', linewidth=1)\n",
    "plt.axvline(t_stat, color='red', linestyle='-.', linewidth=1)\n",
    "plt.annotate(\n",
    "        't_stat',\n",
    "        (t_stat, 0.025),\n",
    "        textcoords=\"offset points\",\n",
    "        xytext=(-3, 10),\n",
    "        ha='right',\n",
    "        fontsize=10,\n",
    ")\n",
    "plt.annotate(\n",
    "        't_crit',\n",
    "        (t_crit, 0.1),\n",
    "        textcoords=\"offset points\",\n",
    "        xytext=(3, 10),\n",
    "        ha='left',\n",
    "        fontsize=10,\n",
    ")\n",
    ";"
   ]
  },
  {
   "cell_type": "markdown",
   "id": "d965c2b4-a5f8-4f3d-9c5b-8623b7a564a1",
   "metadata": {},
   "source": [
    "* 1.1.5 Посчитайте p-value"
   ]
  },
  {
   "cell_type": "code",
   "execution_count": 48,
   "id": "ff5ca9ae-e7c0-4fd5-8dce-5ac14c3cfea1",
   "metadata": {},
   "outputs": [
    {
     "name": "stdout",
     "output_type": "stream",
     "text": [
      "p-value = 0.4440462960415559\n",
      "гипотезу H0 принимаем\n"
     ]
    }
   ],
   "source": [
    "p_value = 1 - distr.cdf(t_stat)\n",
    "print(f\"p-value = {p_value}\")\n",
    "if p_value > alpha:\n",
    "    print(\"гипотезу H0 принимаем\")\n",
    "else:\n",
    "    print(\"гипотнзу H1 принимаем\")"
   ]
  },
  {
   "cell_type": "markdown",
   "id": "24ee3e8d-1010-4cee-92b8-87a5dc13c91a",
   "metadata": {},
   "source": [
    "* 1.1.6 На основании значения статистики и p-value, примите решение о справедливости гипотезы"
   ]
  },
  {
   "cell_type": "markdown",
   "id": "c6799f4d-b247-46f2-8027-b970ad7b91e0",
   "metadata": {},
   "source": [
    "> Верна гипотеза $H_0$, т.е. статистически значимого увеличения времени не произошло"
   ]
  },
  {
   "cell_type": "markdown",
   "id": "a3e3d66f-b1b8-4765-8784-633ac6bff8f2",
   "metadata": {},
   "source": [
    "##### 1.2 В ресторане появилось новое экспериментальное блюдо, которое в планах должно заменить одно из старых блюд. Необходимо количественно оценить, лучше ли оно старого блюда, или нет. Для этого был проведен эксперимент, в рамках которого людям давали попробовать и просили оценить блюда по шкале от 1 до 10. Получились две выборки:"
   ]
  },
  {
   "cell_type": "code",
   "execution_count": 49,
   "id": "147d296b-5dee-457d-8879-192744ae9912",
   "metadata": {},
   "outputs": [],
   "source": [
    "old = np.array(\n",
    "    [\n",
    "        6,\n",
    "        8,\n",
    "        4,\n",
    "        7,\n",
    "        8,\n",
    "        7,\n",
    "        5,\n",
    "        9,\n",
    "        7,\n",
    "        6,\n",
    "        9,\n",
    "        8,\n",
    "        6,\n",
    "        9,\n",
    "        5,\n",
    "        7,\n",
    "        10,\n",
    "        8,\n",
    "        6,\n",
    "        7,\n",
    "        8,\n",
    "        10,\n",
    "        8,\n",
    "        7,\n",
    "        9,\n",
    "        6,\n",
    "        7,\n",
    "        8,\n",
    "        5,\n",
    "        9,\n",
    "        9,\n",
    "        8,\n",
    "        8,\n",
    "        6,\n",
    "        6,\n",
    "        7,\n",
    "        9,\n",
    "        7,\n",
    "        7,\n",
    "        7,\n",
    "        7,\n",
    "        8,\n",
    "        8,\n",
    "        7,\n",
    "        8,\n",
    "        6,\n",
    "        8,\n",
    "        8,\n",
    "        8,\n",
    "        8,\n",
    "    ]\n",
    ")\n",
    "new = np.array(\n",
    "    [\n",
    "        9,\n",
    "        8,\n",
    "        5,\n",
    "        9,\n",
    "        10,\n",
    "        9,\n",
    "        6,\n",
    "        8,\n",
    "        8,\n",
    "        8,\n",
    "        9,\n",
    "        7,\n",
    "        7,\n",
    "        8,\n",
    "        6,\n",
    "        9,\n",
    "        7,\n",
    "        9,\n",
    "        8,\n",
    "        8,\n",
    "        7,\n",
    "        7,\n",
    "        8,\n",
    "        5,\n",
    "        9,\n",
    "        8,\n",
    "        7,\n",
    "        7,\n",
    "        7,\n",
    "        9,\n",
    "        8,\n",
    "        8,\n",
    "        7,\n",
    "        7,\n",
    "        9,\n",
    "        8,\n",
    "        9,\n",
    "        6,\n",
    "        5,\n",
    "        9,\n",
    "        8,\n",
    "        9,\n",
    "        6,\n",
    "        9,\n",
    "        9,\n",
    "        8,\n",
    "        10,\n",
    "        8,\n",
    "        10,\n",
    "        10,\n",
    "    ]\n",
    ")"
   ]
  },
  {
   "cell_type": "markdown",
   "id": "84a11c2b",
   "metadata": {},
   "source": [
    "* Можно взглянуть на распределение оценок блюд"
   ]
  },
  {
   "cell_type": "code",
   "execution_count": 50,
   "id": "6f5c2760-5aaf-4634-a7d1-37bc30e11b27",
   "metadata": {},
   "outputs": [
    {
     "data": {
      "image/png": "[encoded data removed]",
      "text/plain": [
       "<Figure size 1500x700 with 2 Axes>"
      ]
     },
     "metadata": {},
     "output_type": "display_data"
    }
   ],
   "source": [
    "fig, axes = plt.subplots(1, 2, figsize=(15, 7))\n",
    "\n",
    "sns.histplot(new, ax=axes[0], bins=np.arange(4.5, 11.5, 1))\n",
    "sns.histplot(old, ax=axes[1], bins=np.arange(3.5, 11.5, 1))\n",
    "\n",
    "axes[0].set_title(\"Распределение оценок новых блюд\")\n",
    "axes[1].set_title(\"Распределение оценок старых блюд\")\n",
    "\n",
    "plt.show()"
   ]
  },
  {
   "cell_type": "markdown",
   "id": "2f65ca33-b311-4887-a937-7bc61c07526a",
   "metadata": {},
   "source": [
    "$H_0 : \\mu_{new} = \\mu_{old}$\n",
    "\n",
    "$H_1 : \\mu_{new} \\neq \\mu_{old}$  или $H_1 : \\mu_{new} > \\mu_{old}$ или $H_1 : \\mu_{new} < \\mu_{old}$\n",
    "\n",
    "$\\mu$ - это среднее по группе.  \n",
    "\n",
    "* Иначе говоря, мы пытаемся ответить на вопрос, является ли новое блюдо лучше в среднем по Генеральной Совокупности посетителей нашего ресторана"
   ]
  },
  {
   "cell_type": "markdown",
   "id": "f3840423-035a-4d84-956d-a9986243fda3",
   "metadata": {},
   "source": [
    "Такие задачи называются __проверкой гипотезы__ о среднем и встречаются чаще всего"
   ]
  },
  {
   "cell_type": "markdown",
   "id": "409b1376-c36e-42fa-b45d-76e60578a0f6",
   "metadata": {},
   "source": [
    "Реализуйте следующую статистику, которая имеет название t-статистика: \n",
    "    \n",
    "    \n",
    "$T(X) = \\dfrac{\\overline{X}_{new} - \\overline{X}_{old}}{\\sqrt{{\\dfrac{s^2_{new}}{n_{new}}} + \\dfrac{s^2_{old}}{n_{old}}}}$  \n",
    "\n",
    "где $\\overline{X}$ - выборочные средние, $s^2$ - выборочные дисперсии, n - количество элементов в выборке.  \n",
    "\n",
    "\n",
    "Такая статистика имеет [t-распределение](https://en.wikipedia.org/wiki/Student%27s_t-distribution) или иногда называют распределением Стьюдента. По форме оно очень похоже на нормальное и если быть предельно точным, то на больших выборках t-распределение стремится к нормальному. \n",
    "\n",
    "$T(X) \\sim t(n_{new} + n_{old} - 2)$"
   ]
  },
  {
   "cell_type": "markdown",
   "id": "7e549914-d379-4fd3-b846-cf22372008b6",
   "metadata": {},
   "source": [
    "Обернуть все в функцию, позволяющую вычислять двухвыборочный t-тест. \n",
    "Функция должна принимать следующие аргументы: \n",
    "* `sample_1`, `sample_2` - два списка выборочными данными\n",
    "* `alternative` принимает одно из трех значений: `twosided`, `left`, `right`. Аргумент позволяет контролировать вид проверяемой альтернативы.\n",
    "* `alpha` - уровень значимости\n",
    "\n",
    "Функция должна распечатывать результат проверки аналогично примеру выше, а также возвращать значение статистики и `p_value`. "
   ]
  },
  {
   "cell_type": "code",
   "execution_count": 51,
   "id": "c02e64b6-f502-4534-8150-ad4c3bf7f289",
   "metadata": {},
   "outputs": [
    {
     "name": "stdout",
     "output_type": "stream",
     "text": [
      "t_stat = -1.9960268449458625\n",
      "p_value = 0.0487059239167793\n",
      "гипотнзу H1 принимаем\n"
     ]
    },
    {
     "data": {
      "text/plain": [
       "(np.float64(-1.9960268449458625), np.float64(0.0487059239167793))"
      ]
     },
     "execution_count": 51,
     "metadata": {},
     "output_type": "execute_result"
    }
   ],
   "source": [
    "def ttest(sample_1, sample_2, alternative=\"twosided\", alpha=0.05, independent=True):\n",
    "    sample1 = np.array(sample_1)\n",
    "    sample2 = np.array(sample_2)\n",
    "    mean1 = sample1.mean()\n",
    "    mean2 = sample2.mean()\n",
    "    sigma1 = np.std(sample1, ddof=1)\n",
    "    sigma2 = np.std(sample2, ddof=1)\n",
    "    n1 = len(sample_1)\n",
    "    n2 = len(sample_2)\n",
    "    t_stat = (mean1 - mean2) / np.sqrt(sigma1**2 / n1 + sigma2**2 / n2)\n",
    "    t_dist = st.t(len(sample_1) + len(sample_2) - 2)\n",
    "    if alternative == \"twosided\":\n",
    "        p_value = 2 * (1 - t_dist.cdf(abs(t_stat)))\n",
    "    elif alternative == \"left\":\n",
    "        p_value = t_dist.cdf(t_stat)\n",
    "    elif alternative == \"right\":\n",
    "        p_value = 1 - t_dist.cdf(t_stat)\n",
    "    else:\n",
    "        p_value = None\n",
    "        print('Wrong parameter \"alternative\"')\n",
    "    print(f\"t_stat = {t_stat}\")\n",
    "    print(f\"p_value = {p_value}\")\n",
    "    if p_value > alpha:\n",
    "        print(\"гипотезу H0 принимаем\")\n",
    "    else:\n",
    "        print(\"гипотнзу H1 принимаем\")\n",
    "    return t_stat, p_value\n",
    "\n",
    "\n",
    "ttest(old, new, alternative=\"twosided\")"
   ]
  },
  {
   "cell_type": "markdown",
   "id": "fd518ef5",
   "metadata": {},
   "source": [
    "##### 1.3 Возьмите готовый `ttest_ind` для задачи выше и сравните результаты c вашим самописным\n",
    "\n",
    "* небольшая разница  в результатах допустима"
   ]
  },
  {
   "cell_type": "code",
   "execution_count": 52,
   "id": "7422686f",
   "metadata": {},
   "outputs": [
    {
     "data": {
      "text/plain": [
       "TtestResult(statistic=np.float64(-1.9960268449458625), pvalue=np.float64(0.048705923916779276), df=np.float64(98.0))"
      ]
     },
     "execution_count": 52,
     "metadata": {},
     "output_type": "execute_result"
    }
   ],
   "source": [
    "st.ttest_ind(old, new, alternative=\"two-sided\")"
   ]
  },
  {
   "cell_type": "markdown",
   "id": "d3ceade6-16a0-42f4-b872-b9f2b6a480b3",
   "metadata": {},
   "source": [
    "<img src=\"https://icons.iconarchive.com/icons/icons8/windows-8/256/Programming-Github-icon.png\" width=32 /> Пора сохранить изменения для __github__. \n",
    "\n",
    "1. Перейди в командной строке в папку, в которой расположен этот нотбук. \n",
    "2. Выполни команду `git add 04-03-task.ipynb`\n",
    "3. Выполни команду `git commit -m \"hypothesis tasks in progress\"`\n",
    "4. Выполни команду `git push`"
   ]
  },
  {
   "cell_type": "markdown",
   "id": "640304f3",
   "metadata": {},
   "source": [
    "## Блок 2. Применение готовых статистических тестов для проверки гипотез"
   ]
  },
  {
   "cell_type": "markdown",
   "id": "00b76d97",
   "metadata": {},
   "source": [
    "*  📊 Вы не первые, кто проверяет гипотезы! 📊\n",
    "*  Поэтому существуют готовые реализации статистических тестов. \n",
    "*  Давайте рассмотрим самые основные из них. 👇"
   ]
  },
  {
   "cell_type": "markdown",
   "id": "b60c1a13",
   "metadata": {},
   "source": [
    "### 2.1. Гипотеза о доле\n",
    "\n",
    "\n",
    "Напишите функцию(или возьмите сразу готовую), которая принимает на вход количество элементов выборки а так же долю \"успехов\" и отвеьте на вопрос:\n",
    "\n",
    "*  можно ли считать монетку честной, если после 100 подбрасываний, выпало 57 орлов (доля выпадения 0.57)\n",
    "*  Стала ли статистически значимо эффективнее реклама, если ранее конверсия была 0.2, а сейчас на выборке из 200 элементов конверсия вышла 0.3\n",
    "\n",
    "`Подсказка`: Можно использовать _z_test_ или _binom_test_"
   ]
  },
  {
   "cell_type": "code",
   "execution_count": 53,
   "id": "b91ec413",
   "metadata": {},
   "outputs": [
    {
     "name": "stdout",
     "output_type": "stream",
     "text": [
      "p_value выпадения 57 орлов из 100 подбрасываний монетки равно 0.1933\n",
      "Монетка честная\n",
      "\n",
      "p_value коверсии 0.3 на выборке из 200 элементов равно 0.000498\n",
      "Реклама эффективная\n"
     ]
    }
   ],
   "source": [
    "alpha = 0.05  # примем уровень значимости равным 0.05\n",
    "\n",
    "# Задача про монетку\n",
    "\n",
    "p_val_coin = st.binomtest(57, 100, 0.5).pvalue\n",
    "print(\n",
    "    f\"p_value выпадения 57 орлов из 100 подбрасываний монетки равно {np.round(p_val_coin, 4)}\"\n",
    ")\n",
    "if p_val_coin >= alpha:\n",
    "    print(\"Монетка честная\")\n",
    "else:\n",
    "    print(\"Монетка нечестная\")\n",
    "\n",
    "print(\"\")\n",
    "\n",
    "# Задача про рекламу\n",
    "\n",
    "p_val_ad = st.binomtest(60, 200, 0.2, alternative=\"greater\").pvalue\n",
    "print(f\"p_value коверсии 0.3 на выборке из 200 элементов равно {np.round(p_val_ad, 6)}\")\n",
    "if p_val_ad >= alpha:\n",
    "    print(\"Рекламу нельзя считать эффективной\")\n",
    "else:\n",
    "    print(\"Реклама эффективная\")"
   ]
  },
  {
   "cell_type": "markdown",
   "id": "f7207062",
   "metadata": {},
   "source": [
    "### 2.2 Доверительный интервал\n",
    "\n",
    "Реализовать функцию, позволяющую строить доверительный интервал для среднего. На вход функции поступает выборка (n > 20), уровень значимости. \n",
    "\n",
    "Воспользуйтесь методом `scipy.stats.t.interval` или же напишите его вручную по формуле из лекции"
   ]
  },
  {
   "cell_type": "code",
   "execution_count": 54,
   "id": "960b2689",
   "metadata": {},
   "outputs": [],
   "source": [
    "def rel_interval(sample, alpha=0.05):\n",
    "    # sample = np.array(sample)\n",
    "    sc = np.std(sample, ddof=1) / np.sqrt(len(sample))\n",
    "    return st.t.interval(\n",
    "        1 - alpha,\n",
    "        df=len(sample) - 1,\n",
    "        loc=np.mean(sample),\n",
    "        scale=sc,\n",
    "    )"
   ]
  },
  {
   "cell_type": "markdown",
   "id": "f71771c3",
   "metadata": {},
   "source": [
    "* Постройте 95%-доверительный интервал для среднего кубика, у которого вот такой результат\n",
    "\n",
    "    - [6, 1, 2, 4, 6, 5, 5, 6, 3, 3, 6, 3, 4, 2, 2, 2, 4, 4, 3, 6]\n",
    "    - честный ли он? (у честного кубика мат.ожидание = 3.5)"
   ]
  },
  {
   "cell_type": "code",
   "execution_count": 55,
   "id": "aedad7ce",
   "metadata": {},
   "outputs": [
    {
     "name": "stdout",
     "output_type": "stream",
     "text": [
      "Доверительный интервал среднего значения кубика при alpha = 0.05:\n",
      "[3.09 : 4.61]\n",
      "Кубик честный\n"
     ]
    },
    {
     "data": {
      "text/plain": [
       "(np.float64(3.08661609136245), np.float64(4.61338390863755))"
      ]
     },
     "execution_count": 55,
     "metadata": {},
     "output_type": "execute_result"
    }
   ],
   "source": [
    "arr = [6, 1, 2, 4, 6, 5, 5, 6, 3, 3, 6, 3, 4, 2, 2, 2, 4, 4, 3, 6]\n",
    "true_mean = 3.5\n",
    "res = rel_interval(arr, alpha=0.05)\n",
    "print(\"Доверительный интервал среднего значения кубика при alpha = 0.05:\")\n",
    "print(f\"[{np.round(res[0], 2)} : {np.round(res[1], 2)}]\")\n",
    "if res[0] <= true_mean <= res[1]:\n",
    "    print(\"Кубик честный\")\n",
    "else:\n",
    "    print(\"кубик нечестный\")\n",
    "\n",
    "res"
   ]
  },
  {
   "cell_type": "markdown",
   "id": "435344f5",
   "metadata": {},
   "source": [
    "### 2.3 Bootstrap"
   ]
  },
  {
   "cell_type": "markdown",
   "id": "aaf50854",
   "metadata": {},
   "source": [
    "* Есть сервис по доставке еды, который заявляет, что среднее время их доставки составляет 20 минут\n",
    "\n",
    "* Мы подняли все наши заказы у данного сервиса"
   ]
  },
  {
   "cell_type": "code",
   "execution_count": 56,
   "id": "d0c626c3",
   "metadata": {},
   "outputs": [],
   "source": [
    "sample = np.array(\n",
    "    [\n",
    "        10,\n",
    "        13,\n",
    "        18,\n",
    "        8,\n",
    "        14,\n",
    "        15,\n",
    "        14,\n",
    "        15,\n",
    "        10,\n",
    "        14,\n",
    "        21,\n",
    "        20,\n",
    "        18,\n",
    "        13,\n",
    "        10,\n",
    "        13,\n",
    "        11,\n",
    "        10,\n",
    "        21,\n",
    "        16,\n",
    "        18,\n",
    "        21,\n",
    "        22,\n",
    "        20,\n",
    "        25,\n",
    "        14,\n",
    "        12,\n",
    "        14,\n",
    "        11,\n",
    "        16,\n",
    "        30,\n",
    "        29,\n",
    "        30,\n",
    "        31,\n",
    "        28,\n",
    "        28,\n",
    "        24,\n",
    "        48,\n",
    "        35,\n",
    "        50,\n",
    "        33,\n",
    "        18,\n",
    "        31,\n",
    "        22,\n",
    "        33,\n",
    "        27,\n",
    "        28,\n",
    "        44,\n",
    "        22,\n",
    "        23,\n",
    "        28,\n",
    "        23,\n",
    "        22,\n",
    "        30,\n",
    "        27,\n",
    "        30,\n",
    "        30,\n",
    "        41,\n",
    "        26,\n",
    "        29,\n",
    "        35,\n",
    "        28,\n",
    "        27,\n",
    "        22,\n",
    "        25,\n",
    "        33,\n",
    "        28,\n",
    "        7,\n",
    "        19,\n",
    "        15,\n",
    "        20,\n",
    "        36,\n",
    "        22,\n",
    "        17,\n",
    "        17,\n",
    "        29,\n",
    "        14,\n",
    "        31,\n",
    "        11,\n",
    "        16,\n",
    "        24,\n",
    "        13,\n",
    "        15,\n",
    "        21,\n",
    "        30,\n",
    "        26,\n",
    "        19,\n",
    "        21,\n",
    "        13,\n",
    "        16,\n",
    "        29,\n",
    "        37,\n",
    "        26,\n",
    "        15,\n",
    "        21,\n",
    "        24,\n",
    "        12,\n",
    "        27,\n",
    "        18,\n",
    "        32,\n",
    "        33,\n",
    "        47,\n",
    "        23,\n",
    "        33,\n",
    "        17,\n",
    "        19,\n",
    "        25,\n",
    "        15,\n",
    "        14,\n",
    "        20,\n",
    "        23,\n",
    "        13,\n",
    "        44,\n",
    "        33,\n",
    "        48,\n",
    "        34,\n",
    "        34,\n",
    "        28,\n",
    "        27,\n",
    "        21,\n",
    "        26,\n",
    "        44,\n",
    "        41,\n",
    "    ]\n",
    ")"
   ]
  },
  {
   "cell_type": "markdown",
   "id": "88ca94a1",
   "metadata": {},
   "source": [
    "\n",
    "* Постройте 95%-доверительный интервал для среднего времени доставки"
   ]
  },
  {
   "cell_type": "code",
   "execution_count": 57,
   "id": "2fb41dc2",
   "metadata": {},
   "outputs": [
    {
     "name": "stdout",
     "output_type": "stream",
     "text": [
      "Расчет циклом\n",
      "95%-доверительный интервал для среднего времени доставки: [20.8 : 26.7]\n",
      "95%-доверительный интервал для медианы времени доставки: [19.0 : 27.0]\n",
      "95%-доверительный интервал для дисперсии времени доставки: [51.9 : 132.3]\n",
      "Расчет функцией bootstrap\n",
      "Среднее - [22.073170731707318 : 25.41172987396876]\n",
      "Медиана- [20.0 : 24.0]\n",
      "Дисперсия - [69.80625904380973 : 114.99609099150115]\n"
     ]
    }
   ],
   "source": [
    "def bootstrap_interval(sample, n=10000, metrics=\"mean\", alpha=0.05):\n",
    "    boot_res = []\n",
    "    for _ in range(n):\n",
    "        temp_sample = np.random.choice(sample, size=len(sample))\n",
    "        if metrics == \"mean\":\n",
    "            boot_res.append(temp_sample.mean())\n",
    "        elif metrics == \"median\":\n",
    "            boot_res.append(np.median(temp_sample))\n",
    "        elif metrics == \"dispertion\":\n",
    "            boot_res.append(np.var(temp_sample))\n",
    "        else:\n",
    "            print(\"Wrong parameter 'metrics'\")\n",
    "            return None\n",
    "    return np.percentile(boot_res, [alpha / 2, 100 - (alpha / 2)])\n",
    "\n",
    "\n",
    "print(\"Расчет циклом\")\n",
    "print(\n",
    "    f'95%-доверительный интервал для среднего времени доставки: [{np.round(bootstrap_interval(sample, metrics=\"mean\")[0], 1)} : {np.round(bootstrap_interval(sample, metrics=\"mean\")[1], 1)}]'\n",
    ")\n",
    "print(\n",
    "    f'95%-доверительный интервал для медианы времени доставки: [{np.round(bootstrap_interval(sample, metrics=\"median\")[0], 1)} : {np.round(bootstrap_interval(sample, metrics=\"median\")[1], 1)}]'\n",
    ")\n",
    "print(\n",
    "    f'95%-доверительный интервал для дисперсии времени доставки: [{np.round(bootstrap_interval(sample, metrics=\"dispertion\")[0], 1)} : {np.round(bootstrap_interval(sample, metrics=\"dispertion\")[1], 1)}]'\n",
    ")\n",
    "\n",
    "print(\"Расчет функцией bootstrap\")\n",
    "print(\n",
    "    f\"Среднее - [{st.bootstrap((sample,), np.mean, confidence_level=0.95).confidence_interval.low} : {st.bootstrap((sample,), np.mean, confidence_level=0.95).confidence_interval.high}]\"\n",
    ")\n",
    "print(\n",
    "    f\"Медиана- [{st.bootstrap((sample,), np.median, confidence_level=0.95).confidence_interval.low} : {st.bootstrap((sample,), np.median, confidence_level=0.95).confidence_interval.high}]\"\n",
    ")\n",
    "print(\n",
    "    f\"Дисперсия - [{st.bootstrap((sample,), np.var, confidence_level=0.95).confidence_interval.low} : {st.bootstrap((sample,), np.var, confidence_level=0.95).confidence_interval.high}]\"\n",
    ")"
   ]
  },
  {
   "cell_type": "markdown",
   "id": "021d5737",
   "metadata": {},
   "source": [
    "Также можно посчитать дополнительно:\n",
    "\n",
    "* Постройте 95%-доверительный интервал для медианы времени доставки\n",
    "* Постройте 95%-доверительный интервал для дисперсии времени доставки"
   ]
  },
  {
   "cell_type": "markdown",
   "id": "0fc4e86b",
   "metadata": {},
   "source": [
    "<img src=\"https://icons.iconarchive.com/icons/icons8/windows-8/256/Programming-Github-icon.png\" width=32 /> Пора сохранить изменения для __github__. \n",
    "\n",
    "1. Перейди в командной строке в папку, в которой расположен этот нотбук. \n",
    "2. Выполни команду `git add 04-02-task.ipynb`\n",
    "3. Выполни команду `git commit -m \"hypothesis tasks done\"`\n",
    "4. Выполни команду `git push`"
   ]
  },
  {
   "cell_type": "markdown",
   "id": "fa72d4e3",
   "metadata": {},
   "source": [
    "## Блок 3. Дополнительные задания. \"Набить руку\" (не является обязательным)"
   ]
  },
  {
   "cell_type": "markdown",
   "id": "a3ec8d99",
   "metadata": {},
   "source": [
    "### 3.1 Оценка эффективности рекламы\n",
    " "
   ]
  },
  {
   "cell_type": "markdown",
   "id": "2b7ba151",
   "metadata": {},
   "source": [
    "* Вы провели эксперимент, в рамках которого 1000 человек увидели рекламу нового продукта, а 1000 человек не увидели. \n",
    "* После проведения эксперимента вы получили следующие результаты: \n",
    "    - 100 человек из тех, кто увидел рекламу, купили продукт\n",
    "    - 50 человек из тех, кто не увидел рекламу, купили продукт\n",
    " * Проверьте гипотезу о том, что реклама не влияет на покупку продукта на уровне значимости $\\alpha = 0.05$. В ответ запишите достигаемый уровень значимости с точностью до четвертого знака."
   ]
  },
  {
   "cell_type": "code",
   "execution_count": 58,
   "id": "fed8b5c3",
   "metadata": {},
   "outputs": [
    {
     "name": "stdout",
     "output_type": "stream",
     "text": [
      "t-метрика = -4.2619\n",
      "p-value = 0.999989392846931\n"
     ]
    }
   ],
   "source": [
    "alpha = 0.05\n",
    "basic = []\n",
    "after_ad = []\n",
    "n = 1000\n",
    "for _ in range(950):\n",
    "    basic.append(0)\n",
    "for _ in range(50):\n",
    "    basic.append(1)\n",
    "for _ in range(900):\n",
    "    after_ad.append(0)\n",
    "for _ in range(100):\n",
    "    after_ad.append(1)\n",
    "\n",
    "arr_basic = np.array(basic)\n",
    "arr_after = np.array(after_ad)\n",
    "np.random.shuffle(arr_after)\n",
    "np.random.shuffle(arr_basic)\n",
    "\n",
    "t_stat_ads = st.ttest_ind(arr_basic, arr_after, alternative=\"greater\")[0]\n",
    "p_value_ads = st.ttest_ind(arr_basic, arr_after, alternative=\"greater\")[1]\n",
    "print(f\"t-метрика = {np.round(t_stat_ads, 4)}\")\n",
    "print(f\"p-value = {p_value_ads}\")"
   ]
  },
  {
   "cell_type": "markdown",
   "id": "385f0368",
   "metadata": {},
   "source": [
    "### 3.2 Студенты "
   ]
  },
  {
   "cell_type": "markdown",
   "id": "d9b808fe",
   "metadata": {},
   "source": [
    "* Допустим, вы думаете, что $25\\%$ студентов вашего университета ни разу не пропустили ни одной лекции. В выборочном опросе из $75$ случайных студентов таких оказалось $15$ человек. Проверьте свою гипотезу на уровне значимости $\\alpha = 0.02$ против двусторонних альтернатив. В ответ запишите достигаемый уровень значимости с точностью до четвертого знака."
   ]
  },
  {
   "cell_type": "code",
   "execution_count": null,
   "id": "f4c1691d",
   "metadata": {},
   "outputs": [],
   "source": []
  },
  {
   "cell_type": "markdown",
   "id": "fee001d4",
   "metadata": {},
   "source": [
    "### 3.3 Медицинский кейс"
   ]
  },
  {
   "cell_type": "markdown",
   "id": "07f79a7b",
   "metadata": {},
   "source": [
    "* Пусть для группы из $n = 25$ пациентов вычислено среднее артериальное давление $\\bar{x} = 100$ мм рт. ст. Из предыдущих исследований известно стандартное отклонение $\\sigma = 12$ мм рт. ст. Постройте $98\\%$ доверительный интервал для среднего артериального давления."
   ]
  },
  {
   "cell_type": "code",
   "execution_count": 59,
   "id": "ec0bd10a",
   "metadata": {},
   "outputs": [],
   "source": [
    "# your code"
   ]
  },
  {
   "cell_type": "markdown",
   "id": "a3703ddc",
   "metadata": {},
   "source": [
    "### 3.4 Свой StatTester"
   ]
  },
  {
   "cell_type": "markdown",
   "id": "bf77214c",
   "metadata": {},
   "source": [
    "Реализуй класс, позволяющий проводить проверку гипотезу о средних для двух выборок. \n",
    "1. В конструктор класса передаются две выборки\n",
    "2. Пользователь выбирает тип задачи (Гипотеза о доле или среднем). Исходя из выборка выбираем либо `z-статистику`, либо `t-статистику`\n",
    "3. В методе `test` проводится тестирование, метод возвращает значение статистики, p_value и результат проверки\n",
    "4. Выбирается альтернатива: двухсторонняя, правая или левая\n",
    "5. Уровень значимости по умолчанию равен $0.05$ (может быть переназначен пользователем)\n",
    "6. Добавь метод, позволяющий вычислять доверительные интервалы для средних для обеих выборок"
   ]
  },
  {
   "cell_type": "code",
   "execution_count": 60,
   "id": "a9e6413c",
   "metadata": {},
   "outputs": [
    {
     "name": "stdout",
     "output_type": "stream",
     "text": [
      "t_stat = -1.9960268449458625\n",
      "p_value = 0.0487059239167793\n",
      "Принимаем гипотнзу H1 - средние значения различны\n",
      "Доверительный интервал для 1 выборки: [7.008: 7.752]\n",
      "Доверительный интервал для 2 выборки: [7.531: 8.269]\n"
     ]
    },
    {
     "data": {
      "text/plain": [
       "((np.float64(7.008386565317236), np.float64(7.751613434682763)),\n",
       " (np.float64(7.5312362670678406), np.float64(8.268763732932161)))"
      ]
     },
     "execution_count": 60,
     "metadata": {},
     "output_type": "execute_result"
    }
   ],
   "source": [
    "class StatTester:\n",
    "\n",
    "    def __init__(self, sample1, sample2, stat) -> None:\n",
    "        self.sample1 = np.array(sample1)\n",
    "        self.sample2 = np.array(sample2)\n",
    "        self.stat = stat\n",
    "        if self.stat != \"t\" and self.stat != \"z\":\n",
    "            print(\"Wrong stat type, expect 't' or 'z'\")\n",
    "            raise (ValueError)\n",
    "\n",
    "    def test(self, alpha=0.05, alternative=\"twosided\"):\n",
    "        if self.stat == \"t\":\n",
    "            return self.t_test(alpha, alternative)\n",
    "        elif self.stat == \"z\":\n",
    "            return self.t_test(alpha, alternative)\n",
    "        else:\n",
    "            return None\n",
    "\n",
    "    def t_test(self, alpha, alternative):\n",
    "\n",
    "        sample1 = np.array(self.sample1)\n",
    "        sample2 = np.array(self.sample2)\n",
    "        mean1 = sample1.mean()\n",
    "        mean2 = sample2.mean()\n",
    "        sigma1 = np.std(sample1, ddof=1)\n",
    "        sigma2 = np.std(sample2, ddof=1)\n",
    "        n1 = len(sample1)\n",
    "        n2 = len(sample2)\n",
    "        t_stat_t = (mean1 - mean2) / np.sqrt(sigma1**2 / n1 + sigma2**2 / n2)\n",
    "        t_dist_t = st.t(len(sample1) + len(sample2) - 2)\n",
    "        if alternative == \"twosided\":\n",
    "            p_value_t = 2 * (1 - t_dist_t.cdf(abs(t_stat_t)))\n",
    "        elif alternative == \"left\":\n",
    "            p_value_t = t_dist_t.cdf(t_stat_t)\n",
    "        elif alternative == \"right\":\n",
    "            p_value_t = 1 - t_dist_t.cdf(t_stat_t)\n",
    "        else:\n",
    "            p_value_t = None\n",
    "            print('Wrong parameter \"alternative\"')\n",
    "            raise (ValueError)\n",
    "        print(f\"t_stat = {t_stat_t}\")\n",
    "        print(f\"p_value = {p_value_t}\")\n",
    "        if p_value_t > alpha:\n",
    "            print(\"Принимаем гипотезу H0 - средние значения идентичны\")\n",
    "        else:\n",
    "            print(\"Принимаем гипотнзу H1 - средние значения различны\")\n",
    "        return (t_stat_t, p_value_t)\n",
    "\n",
    "    # def z_test(self, alpha=0.05, alternative=\"twosided\"):\n",
    "    #     # Ждем массивы из нулей и единиц\n",
    "    #     if (\n",
    "    #         alternative != \"twosided\"\n",
    "    #         and alternative != \"right\"\n",
    "    #         and alternative != \"left\"\n",
    "    #     ):\n",
    "    #         print(\"Wrong alternative type, expect 'twosided', 'right' or 'left'\")\n",
    "    #         raise (ValueError)\n",
    "    #     sample1 = np.array(self.sample1)\n",
    "    #     sample2 = np.array(self.sample2)\n",
    "    #     fraction1 = sample1.sum() / len(sample1)\n",
    "    #     fraction2 = sample2.sum() / len(sample2)\n",
    "    #     mean1 = sample1.mean()\n",
    "    #     mean2 = sample2.mean()\n",
    "    #     z_stat = (fraction1 - fraction2) / np.sqrt(fraction2 * (1 - fraction2) / n)\n",
    "\n",
    "    def intervals(self, alpha=0.05):\n",
    "        sample1 = np.array(self.sample1)\n",
    "        sample2 = np.array(self.sample2)\n",
    "        sc1 = np.std(sample1, ddof=1) / np.sqrt(len(sample1))\n",
    "        sc2 = np.std(sample2, ddof=1) / np.sqrt(len(sample2))\n",
    "        inter1 = st.t.interval(\n",
    "            1 - alpha,\n",
    "            df=len(sample1) - 1,\n",
    "            loc=np.mean(sample1),\n",
    "            scale=sc1,\n",
    "        )\n",
    "        inter2 = st.t.interval(\n",
    "            1 - alpha,\n",
    "            df=len(sample2) - 1,\n",
    "            loc=np.mean(sample2),\n",
    "            scale=sc2,\n",
    "        )\n",
    "        print(\n",
    "            f\"Доверительный интервал для 1 выборки: [{round(inter1[0], 3)}: {round(inter1[1], 3)}]\"\n",
    "        )\n",
    "        print(\n",
    "            f\"Доверительный интервал для 2 выборки: [{round(inter2[0], 3)}: {round(inter2[1], 3)}]\"\n",
    "        )\n",
    "        return (inter1, inter2)\n",
    "\n",
    "\n",
    "stat_test = StatTester(old, new, \"t\")\n",
    "\n",
    "stat_test.test(alternative=\"twosided\")\n",
    "stat_test.intervals()"
   ]
  },
  {
   "cell_type": "markdown",
   "id": "f0729ffb",
   "metadata": {},
   "source": [
    "<img src=\"https://icons.iconarchive.com/icons/icons8/windows-8/256/Programming-Github-icon.png\" width=32 /> Пора сохранить изменения для __github__. \n",
    "\n",
    "1. Перейди в командной строке в папку, в которой расположен этот нотбук. \n",
    "2. Выполни команду `git add 04-03-task.ipynb`\n",
    "3. Выполни команду `git commit -m \"total tasks done\"`\n",
    "4. Выполни команду `git push`"
   ]
  }
 ],
 "metadata": {
  "kernelspec": {
   "display_name": ".venv (3.12.10)",
   "language": "python",
   "name": "python3"
  },
  "language_info": {
   "codemirror_mode": {
    "name": "ipython",
    "version": 3
   },
   "file_extension": ".py",
   "mimetype": "text/x-python",
   "name": "python",
   "nbconvert_exporter": "python",
   "pygments_lexer": "ipython3",
   "version": "3.12.10"
  }
 },
 "nbformat": 4,
 "nbformat_minor": 5
}
